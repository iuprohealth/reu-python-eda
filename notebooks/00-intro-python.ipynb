{
 "cells": [
  {
   "cell_type": "markdown",
   "id": "8313e884",
   "metadata": {},
   "source": [
    "# Quick Intro to Python"
   ]
  },
  {
   "cell_type": "markdown",
   "id": "b8262c4a",
   "metadata": {},
   "source": [
    "## Variables and Conditions"
   ]
  },
  {
   "cell_type": "code",
   "execution_count": 1,
   "id": "40367522",
   "metadata": {},
   "outputs": [
    {
     "data": {
      "text/plain": [
       "False"
      ]
     },
     "execution_count": 1,
     "metadata": {},
     "output_type": "execute_result"
    }
   ],
   "source": [
    "x, y = 3, 5\n",
    "\n",
    "x == y"
   ]
  },
  {
   "cell_type": "code",
   "execution_count": 2,
   "id": "599c4247",
   "metadata": {
    "scrolled": true
   },
   "outputs": [
    {
     "data": {
      "text/plain": [
       "True"
      ]
     },
     "execution_count": 2,
     "metadata": {},
     "output_type": "execute_result"
    }
   ],
   "source": [
    "x != y"
   ]
  },
  {
   "cell_type": "markdown",
   "id": "8d6d1a0d",
   "metadata": {},
   "source": [
    "## Loops and Iteration"
   ]
  },
  {
   "cell_type": "code",
   "execution_count": 3,
   "id": "c0825559",
   "metadata": {},
   "outputs": [
    {
     "data": {
      "text/plain": [
       "[0, 1, 4, 9, 16]"
      ]
     },
     "execution_count": 3,
     "metadata": {},
     "output_type": "execute_result"
    }
   ],
   "source": [
    "output = []\n",
    "\n",
    "for i in range(5):\n",
    "    output.append(i ** 2)\n",
    "\n",
    "output"
   ]
  },
  {
   "cell_type": "code",
   "execution_count": 4,
   "id": "bdf3ecf3",
   "metadata": {
    "scrolled": true
   },
   "outputs": [
    {
     "data": {
      "text/plain": [
       "[0, 1, 4, 9, 16]"
      ]
     },
     "execution_count": 4,
     "metadata": {},
     "output_type": "execute_result"
    }
   ],
   "source": [
    "[i ** 2 for i in range(5)]"
   ]
  },
  {
   "cell_type": "markdown",
   "id": "37e1de7e",
   "metadata": {},
   "source": [
    "## Functions"
   ]
  },
  {
   "cell_type": "code",
   "execution_count": 5,
   "id": "d0cc88f6",
   "metadata": {
    "scrolled": false
   },
   "outputs": [
    {
     "data": {
      "text/plain": [
       "10"
      ]
     },
     "execution_count": 5,
     "metadata": {},
     "output_type": "execute_result"
    }
   ],
   "source": [
    "def my_doubler(x):\n",
    "    return x + x\n",
    "\n",
    "my_doubler(5)"
   ]
  },
  {
   "cell_type": "markdown",
   "id": "3aa7f9e6",
   "metadata": {},
   "source": [
    "## Recursion"
   ]
  },
  {
   "cell_type": "code",
   "execution_count": 6,
   "id": "e4f08b23",
   "metadata": {
    "scrolled": true
   },
   "outputs": [],
   "source": [
    "def fibonacci(x):\n",
    "    if x == 0 or x == 1:\n",
    "        return x\n",
    "    return fibonacci(x - 1) + fibonacci(x - 2)"
   ]
  },
  {
   "cell_type": "code",
   "execution_count": 7,
   "id": "9c47a2e3",
   "metadata": {
    "scrolled": true
   },
   "outputs": [
    {
     "data": {
      "text/plain": [
       "[0, 1, 1, 2, 3, 5, 8, 13, 21, 34]"
      ]
     },
     "execution_count": 7,
     "metadata": {},
     "output_type": "execute_result"
    }
   ],
   "source": [
    "[fibonacci(i) for i in range(10)]"
   ]
  },
  {
   "cell_type": "code",
   "execution_count": 8,
   "id": "b15cfabc",
   "metadata": {},
   "outputs": [],
   "source": [
    "def factorial(x):\n",
    "    if x == 0:\n",
    "        return 0\n",
    "    if x == 1:\n",
    "        return x\n",
    "    return x * factorial(x - 1)"
   ]
  },
  {
   "cell_type": "code",
   "execution_count": 9,
   "id": "1a747070",
   "metadata": {},
   "outputs": [
    {
     "data": {
      "text/plain": [
       "[0, 1, 2, 6, 24, 120, 720, 5040, 40320, 362880]"
      ]
     },
     "execution_count": 9,
     "metadata": {},
     "output_type": "execute_result"
    }
   ],
   "source": [
    "[factorial(i) for i in range(10)]"
   ]
  },
  {
   "cell_type": "markdown",
   "id": "8c3238c5",
   "metadata": {},
   "source": [
    "## Classes and Object-Oriented Programming"
   ]
  },
  {
   "cell_type": "code",
   "execution_count": 10,
   "id": "91a98dec",
   "metadata": {},
   "outputs": [],
   "source": [
    "class Rectangle:\n",
    "    \"\"\"A rectangle has a width (w) and height (h), and we can compute the area.\"\"\"\n",
    "    def __init__(self, w, h):\n",
    "        self.w, self.h = w, h\n",
    "    \n",
    "    def find_area(self):\n",
    "        return self.w * self.h\n",
    "\n",
    "    def __repr__(self):\n",
    "        return self.__class__.__name__ + \"(\" + str(self.w) + \",\" + str(self.h) + \")\"\n",
    "\n",
    "class Square(Rectangle):\n",
    "    \"\"\"A square is a type of rectangle where the width and height are equal length (l).\"\"\"\n",
    "    def __init__(self, l):\n",
    "        super().__init__(l, l)\n",
    "    \n",
    "    def __repr__(self):\n",
    "        return self.__class__.__name__ + \"(\" + str(self.h) + \")\""
   ]
  },
  {
   "cell_type": "code",
   "execution_count": 11,
   "id": "a1458d00",
   "metadata": {},
   "outputs": [
    {
     "data": {
      "text/plain": [
       "Rectangle(2,5)"
      ]
     },
     "execution_count": 11,
     "metadata": {},
     "output_type": "execute_result"
    }
   ],
   "source": [
    "shape1 = Rectangle(2, 5)\n",
    "\n",
    "shape1"
   ]
  },
  {
   "cell_type": "code",
   "execution_count": 12,
   "id": "5eb507c5",
   "metadata": {},
   "outputs": [
    {
     "data": {
      "text/plain": [
       "Square(5)"
      ]
     },
     "execution_count": 12,
     "metadata": {},
     "output_type": "execute_result"
    }
   ],
   "source": [
    "shape2 = Square(5)\n",
    "\n",
    "shape2"
   ]
  },
  {
   "cell_type": "code",
   "execution_count": 13,
   "id": "c1975210",
   "metadata": {},
   "outputs": [
    {
     "data": {
      "text/plain": [
       "10"
      ]
     },
     "execution_count": 13,
     "metadata": {},
     "output_type": "execute_result"
    }
   ],
   "source": [
    "shape1.find_area()"
   ]
  },
  {
   "cell_type": "code",
   "execution_count": 14,
   "id": "3c69b43e",
   "metadata": {},
   "outputs": [
    {
     "data": {
      "text/plain": [
       "25"
      ]
     },
     "execution_count": 14,
     "metadata": {},
     "output_type": "execute_result"
    }
   ],
   "source": [
    "shape2.find_area()"
   ]
  },
  {
   "cell_type": "code",
   "execution_count": 15,
   "id": "4f229409",
   "metadata": {},
   "outputs": [
    {
     "data": {
      "text/plain": [
       "Rectangle(5,5)"
      ]
     },
     "execution_count": 15,
     "metadata": {},
     "output_type": "execute_result"
    }
   ],
   "source": [
    "shape3 = Rectangle(5, 5)\n",
    "\n",
    "shape3"
   ]
  },
  {
   "cell_type": "code",
   "execution_count": 16,
   "id": "46d36022",
   "metadata": {},
   "outputs": [
    {
     "data": {
      "text/plain": [
       "True"
      ]
     },
     "execution_count": 16,
     "metadata": {},
     "output_type": "execute_result"
    }
   ],
   "source": [
    "shape2.find_area() == shape3.find_area()"
   ]
  },
  {
   "cell_type": "markdown",
   "id": "d2f55513",
   "metadata": {},
   "source": [
    "## DataClasses (Python structs) and Functional Programming"
   ]
  },
  {
   "cell_type": "markdown",
   "id": "8d439cc5",
   "metadata": {},
   "source": [
    "Python 3.7+ incorporated the `dataclass`, which can act like a \"struct\" in other languages that allow defining composite types in terms of primitive types (for a similar discussion, see the discussion on [Types in the Julia Programming Language Manual](https://docs.julialang.org/en/v1/manual/types/)).\n",
    "\n",
    "Here's another way we could have implemented our `Rectangle` object from earlier:"
   ]
  },
  {
   "cell_type": "code",
   "execution_count": 17,
   "id": "4e39ebf9",
   "metadata": {},
   "outputs": [],
   "source": [
    "from dataclasses import dataclass\n",
    "\n",
    "@dataclass\n",
    "class AnotherRectangle:\n",
    "    w: int\n",
    "    h: int"
   ]
  },
  {
   "cell_type": "markdown",
   "id": "0f98db8e",
   "metadata": {},
   "source": [
    "Instead of defining a *method* on the object, we can define a function which takes an instance of the object and returns the area:"
   ]
  },
  {
   "cell_type": "code",
   "execution_count": 18,
   "id": "dfd6c394",
   "metadata": {},
   "outputs": [],
   "source": [
    "def find_area(shape: AnotherRectangle):\n",
    "    return shape.w * shape.h"
   ]
  },
  {
   "cell_type": "code",
   "execution_count": 19,
   "id": "04c274d4",
   "metadata": {
    "scrolled": true
   },
   "outputs": [
    {
     "data": {
      "text/plain": [
       "50"
      ]
     },
     "execution_count": 19,
     "metadata": {},
     "output_type": "execute_result"
    }
   ],
   "source": [
    "shape4 = AnotherRectangle(5, 10)\n",
    "\n",
    "find_area(shape4)"
   ]
  },
  {
   "cell_type": "markdown",
   "id": "6155237c",
   "metadata": {},
   "source": [
    "> I like the functional approach more, but often when modeling a domain I've found it easier to think in terms of objects and their methods. --Alexander"
   ]
  },
  {
   "cell_type": "code",
   "execution_count": 20,
   "id": "cb863439",
   "metadata": {},
   "outputs": [
    {
     "data": {
      "text/plain": [
       "25"
      ]
     },
     "execution_count": 20,
     "metadata": {},
     "output_type": "execute_result"
    }
   ],
   "source": [
    "find_area(AnotherRectangle(5, 5))"
   ]
  },
  {
   "cell_type": "code",
   "execution_count": 21,
   "id": "c09035d9",
   "metadata": {},
   "outputs": [
    {
     "data": {
      "text/plain": [
       "25"
      ]
     },
     "execution_count": 21,
     "metadata": {},
     "output_type": "execute_result"
    }
   ],
   "source": [
    "Square(5).find_area()"
   ]
  },
  {
   "cell_type": "code",
   "execution_count": 22,
   "id": "d734be75",
   "metadata": {},
   "outputs": [
    {
     "data": {
      "text/plain": [
       "True"
      ]
     },
     "execution_count": 22,
     "metadata": {},
     "output_type": "execute_result"
    }
   ],
   "source": [
    "find_area(AnotherRectangle(5, 5)) == Square(5).find_area()"
   ]
  }
 ],
 "metadata": {
  "kernelspec": {
   "display_name": "Python 3 (ipykernel)",
   "language": "python",
   "name": "python3"
  },
  "language_info": {
   "codemirror_mode": {
    "name": "ipython",
    "version": 3
   },
   "file_extension": ".py",
   "mimetype": "text/x-python",
   "name": "python",
   "nbconvert_exporter": "python",
   "pygments_lexer": "ipython3",
   "version": "3.8.13"
  }
 },
 "nbformat": 4,
 "nbformat_minor": 5
}
